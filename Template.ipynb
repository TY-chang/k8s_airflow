{
  "nbformat": 4,
  "nbformat_minor": 0,
  "metadata": {
    "colab": {
      "provenance": [],
      "authorship_tag": "ABX9TyNF+9K98Gbc5Q6JneG7QOT9",
      "include_colab_link": true
    },
    "kernelspec": {
      "name": "python3",
      "display_name": "Python 3"
    },
    "language_info": {
      "name": "python"
    }
  },
  "cells": [
    {
      "cell_type": "markdown",
      "metadata": {
        "id": "view-in-github",
        "colab_type": "text"
      },
      "source": [
        "<a href=\"https://colab.research.google.com/github/TY-chang/k8s_airflow/blob/main/Template.ipynb\" target=\"_parent\"><img src=\"https://colab.research.google.com/assets/colab-badge.svg\" alt=\"Open In Colab\"/></a>"
      ]
    },
    {
      "cell_type": "code",
      "execution_count": 2,
      "metadata": {
        "id": "mpirZJMN6wJU"
      },
      "outputs": [],
      "source": [
        "from google.colab import auth\n",
        "auth.authenticate_user()\n",
        "\n",
        "!curl -s https://sdk.cloud.google.com | bash &> /dev/null"
      ]
    },
    {
      "cell_type": "markdown",
      "source": [
        "## Setup\n",
        "- Select: [1] Re-initial\n",
        "- Choose the email\n",
        "- Select project: cresclab\n",
        "- Config region and zone: Y\n",
        "- Select the region: [27] asia-east-a1"
      ],
      "metadata": {
        "id": "XJYMOd_c7pYP"
      }
    },
    {
      "cell_type": "code",
      "source": [
        "from google.colab import auth\n",
        "auth.authenticate_user()\n",
        "\n",
        "import sys\n",
        "import os\n",
        "\n",
        "module = sys.modules[__name__]\n",
        "#1if not getattr(module, \"init_gcloud\", False):\n",
        "!gcloud init\n",
        "os.environ['GOOGLE_CLOUD_PROJECT']='cresclab'"
      ],
      "metadata": {
        "id": "YnzUXIry6043"
      },
      "execution_count": null,
      "outputs": []
    }
  ]
}